{
  "nbformat": 4,
  "nbformat_minor": 0,
  "metadata": {
    "colab": {
      "provenance": [],
      "authorship_tag": "ABX9TyMvaSmxgCisGoH9/MaS/Qhh",
      "include_colab_link": true
    },
    "kernelspec": {
      "name": "python3",
      "display_name": "Python 3"
    },
    "language_info": {
      "name": "python"
    }
  },
  "cells": [
    {
      "cell_type": "markdown",
      "metadata": {
        "id": "view-in-github",
        "colab_type": "text"
      },
      "source": [
        "<a href=\"https://colab.research.google.com/github/MohammadZp/machineLearningProjects/blob/main/cifar10.ipynb\" target=\"_parent\"><img src=\"https://colab.research.google.com/assets/colab-badge.svg\" alt=\"Open In Colab\"/></a>"
      ]
    },
    {
      "cell_type": "code",
      "execution_count": 32,
      "metadata": {
        "id": "qIbprOq1XtHi"
      },
      "outputs": [],
      "source": [
        "import numpy as np\n",
        "from tensorflow import keras\n",
        "from sklearn.model_selection import train_test_split\n",
        "import matplotlib.pyplot as plt"
      ]
    },
    {
      "cell_type": "code",
      "source": [
        "(x_train, y_train), (x_test, y_test) = keras.datasets.cifar10.load_data()"
      ],
      "metadata": {
        "id": "cTmaBbmaaJSK"
      },
      "execution_count": 15,
      "outputs": []
    },
    {
      "cell_type": "code",
      "source": [
        "x_train.shape"
      ],
      "metadata": {
        "colab": {
          "base_uri": "https://localhost:8080/"
        },
        "id": "cgzZvhatbxIB",
        "outputId": "850ef850-386a-4af3-932f-c29e017e1830"
      },
      "execution_count": 16,
      "outputs": [
        {
          "output_type": "execute_result",
          "data": {
            "text/plain": [
              "(50000, 32, 32, 3)"
            ]
          },
          "metadata": {},
          "execution_count": 16
        }
      ]
    },
    {
      "cell_type": "code",
      "source": [
        "y_train.shape"
      ],
      "metadata": {
        "colab": {
          "base_uri": "https://localhost:8080/"
        },
        "id": "eoon3EXRb2K_",
        "outputId": "265be9db-5d9e-4e62-cc10-3427d39c5941"
      },
      "execution_count": 17,
      "outputs": [
        {
          "output_type": "execute_result",
          "data": {
            "text/plain": [
              "(50000, 1)"
            ]
          },
          "metadata": {},
          "execution_count": 17
        }
      ]
    },
    {
      "cell_type": "code",
      "source": [
        "x_test.shape"
      ],
      "metadata": {
        "colab": {
          "base_uri": "https://localhost:8080/"
        },
        "id": "lE3xtwPRb3h4",
        "outputId": "40007651-7710-47d6-8a5d-775fd8b9aee9"
      },
      "execution_count": 18,
      "outputs": [
        {
          "output_type": "execute_result",
          "data": {
            "text/plain": [
              "(10000, 32, 32, 3)"
            ]
          },
          "metadata": {},
          "execution_count": 18
        }
      ]
    },
    {
      "cell_type": "code",
      "source": [
        "y_test.shape"
      ],
      "metadata": {
        "colab": {
          "base_uri": "https://localhost:8080/"
        },
        "id": "03WrXRgsb37o",
        "outputId": "544d7edb-03fe-4f9c-8712-96af16bdd7ba"
      },
      "execution_count": 19,
      "outputs": [
        {
          "output_type": "execute_result",
          "data": {
            "text/plain": [
              "(10000, 1)"
            ]
          },
          "metadata": {},
          "execution_count": 19
        }
      ]
    },
    {
      "cell_type": "code",
      "source": [
        "x_data=np.concatenate((x_train,x_test),axis=0)\n",
        "y_data=np.concatenate((y_train,y_test),axis=0)"
      ],
      "metadata": {
        "id": "R8nmatvdcZ-Z"
      },
      "execution_count": 27,
      "outputs": []
    },
    {
      "cell_type": "code",
      "source": [
        "x_train, x_test, y_train, y_test = train_test_split(x_data, y_data, test_size=0.15)"
      ],
      "metadata": {
        "id": "cP12aPZSdTBp"
      },
      "execution_count": 29,
      "outputs": []
    },
    {
      "cell_type": "code",
      "source": [
        "x_train[1].shape"
      ],
      "metadata": {
        "colab": {
          "base_uri": "https://localhost:8080/"
        },
        "id": "0ikWYNoJeFQU",
        "outputId": "30554dcf-7372-43f4-b514-682b70195a72"
      },
      "execution_count": 45,
      "outputs": [
        {
          "output_type": "execute_result",
          "data": {
            "text/plain": [
              "(32, 32, 3)"
            ]
          },
          "metadata": {},
          "execution_count": 45
        }
      ]
    },
    {
      "cell_type": "code",
      "source": [
        "for i in range(1,10):\n",
        "  plt.imshow(x_train[i],cmap='gray')\n",
        "  plt.show()"
      ],
      "metadata": {
        "colab": {
          "base_uri": "https://localhost:8080/",
          "height": 1000
        },
        "id": "cBLdfbvdgZmq",
        "outputId": "6ee48046-f2fb-465a-c40c-db284d85cf26"
      },
      "execution_count": 35,
      "outputs": [
        {
          "output_type": "display_data",
          "data": {
            "text/plain": [
              "<Figure size 432x288 with 1 Axes>"
            ],
            "image/png": "[encoded data removed]"
          },
          "metadata": {
            "needs_background": "light"
          }
        },
        {
          "output_type": "display_data",
          "data": {
            "text/plain": [
              "<Figure size 432x288 with 1 Axes>"
            ],
            "image/png": "[encoded data removed]"
          },
          "metadata": {
            "needs_background": "light"
          }
        },
        {
          "output_type": "display_data",
          "data": {
            "text/plain": [
              "<Figure size 432x288 with 1 Axes>"
            ],
            "image/png": "[encoded data removed]"
          },
          "metadata": {
            "needs_background": "light"
          }
        },
        {
          "output_type": "display_data",
          "data": {
            "text/plain": [
              "<Figure size 432x288 with 1 Axes>"
            ],
            "image/png": "[encoded data removed]"
          },
          "metadata": {
            "needs_background": "light"
          }
        },
        {
          "output_type": "display_data",
          "data": {
            "text/plain": [
              "<Figure size 432x288 with 1 Axes>"
            ],
            "image/png": "[encoded data removed]"
          },
          "metadata": {
            "needs_background": "light"
          }
        },
        {
          "output_type": "display_data",
          "data": {
            "text/plain": [
              "<Figure size 432x288 with 1 Axes>"
            ],
            "image/png": "[encoded data removed]"
          },
          "metadata": {
            "needs_background": "light"
          }
        },
        {
          "output_type": "display_data",
          "data": {
            "text/plain": [
              "<Figure size 432x288 with 1 Axes>"
            ],
            "image/png": "[encoded data removed]"
          },
          "metadata": {
            "needs_background": "light"
          }
        },
        {
          "output_type": "display_data",
          "data": {
            "text/plain": [
              "<Figure size 432x288 with 1 Axes>"
            ],
            "image/png": "[encoded data removed]"
          },
          "metadata": {
            "needs_background": "light"
          }
        },
        {
          "output_type": "display_data",
          "data": {
            "text/plain": [
              "<Figure size 432x288 with 1 Axes>"
            ],
            "image/png": "[encoded data removed]"
          },
          "metadata": {
            "needs_background": "light"
          }
        }
      ]
    },
    {
      "cell_type": "code",
      "source": [
        "x_train,y_train=x_train/255.0,y_train/255.0"
      ],
      "metadata": {
        "id": "d6LPoUDZkGhO"
      },
      "execution_count": 37,
      "outputs": []
    },
    {
      "cell_type": "code",
      "source": [
        "from keras import layers"
      ],
      "metadata": {
        "id": "sZUtUs_DkxjV"
      },
      "execution_count": 38,
      "outputs": []
    },
    {
      "cell_type": "code",
      "source": [
        "model=keras.models.Sequential()\n",
        "model.add(keras.layers.Flatten(input_shape=[32,32,3]))\n",
        "model.add(keras.layers.Dense(100,activation=\"relu\"))\n",
        "model.add(keras.layers.Dense(75,activation=\"relu\"))\n",
        "model.add(keras.layers.Dense(10,activation=\"softmax\"))\n"
      ],
      "metadata": {
        "id": "O6rA-HMBjO-s"
      },
      "execution_count": 46,
      "outputs": []
    },
    {
      "cell_type": "code",
      "source": [
        "model.summary()"
      ],
      "metadata": {
        "colab": {
          "base_uri": "https://localhost:8080/"
        },
        "id": "2qmqlOw-mSTS",
        "outputId": "2b3b764b-718f-4b11-c3a8-efbaeec5e3c1"
      },
      "execution_count": 40,
      "outputs": [
        {
          "output_type": "stream",
          "name": "stdout",
          "text": [
            "Model: \"sequential\"\n",
            "_________________________________________________________________\n",
            " Layer (type)                Output Shape              Param #   \n",
            "=================================================================\n",
            " flatten (Flatten)           (None, 1024)              0         \n",
            "                                                                 \n",
            " dense (Dense)               (None, 100)               102500    \n",
            "                                                                 \n",
            " dense_1 (Dense)             (None, 75)                7575      \n",
            "                                                                 \n",
            " dense_2 (Dense)             (None, 10)                760       \n",
            "                                                                 \n",
            "=================================================================\n",
            "Total params: 110,835\n",
            "Trainable params: 110,835\n",
            "Non-trainable params: 0\n",
            "_________________________________________________________________\n"
          ]
        }
      ]
    },
    {
      "cell_type": "code",
      "source": [
        "model.compile(loss=\"sparse_categorical_crossentropy\",\n",
        "              optimizer=\"sgd\",\n",
        "              metrics=[\"accuracy\"]\n",
        "              )"
      ],
      "metadata": {
        "id": "coHYxxYlnDQx"
      },
      "execution_count": 48,
      "outputs": []
    },
    {
      "cell_type": "code",
      "source": [
        "model.fit(x_train,y_train,epochs=30,validation_split=0.1)"
      ],
      "metadata": {
        "colab": {
          "base_uri": "https://localhost:8080/"
        },
        "id": "88pL-uljoEg9",
        "outputId": "9504a83c-27d6-4ff1-e1e2-6edcd649f3d2"
      },
      "execution_count": 49,
      "outputs": [
        {
          "output_type": "stream",
          "name": "stdout",
          "text": [
            "Epoch 1/30\n",
            "1435/1435 [==============================] - 7s 5ms/step - loss: 0.0039 - accuracy: 0.1000 - val_loss: 5.3306e-04 - val_accuracy: 0.1051\n",
            "Epoch 2/30\n",
            "1435/1435 [==============================] - 6s 4ms/step - loss: 3.4766e-04 - accuracy: 0.1000 - val_loss: 2.8594e-04 - val_accuracy: 0.1051\n",
            "Epoch 3/30\n",
            "1435/1435 [==============================] - 6s 4ms/step - loss: 2.1813e-04 - accuracy: 0.1000 - val_loss: 1.9580e-04 - val_accuracy: 0.1051\n",
            "Epoch 4/30\n",
            "1435/1435 [==============================] - 6s 4ms/step - loss: 1.6086e-04 - accuracy: 0.1000 - val_loss: 1.4838e-04 - val_accuracy: 0.1051\n",
            "Epoch 5/30\n",
            "1435/1435 [==============================] - 6s 4ms/step - loss: 1.2799e-04 - accuracy: 0.1000 - val_loss: 1.1900e-04 - val_accuracy: 0.1051\n",
            "Epoch 6/30\n",
            "1435/1435 [==============================] - 6s 4ms/step - loss: 1.0639e-04 - accuracy: 0.1000 - val_loss: 9.9019e-05 - val_accuracy: 0.1051\n",
            "Epoch 7/30\n",
            "1435/1435 [==============================] - 6s 4ms/step - loss: 9.1100e-05 - accuracy: 0.1000 - val_loss: 8.4592e-05 - val_accuracy: 0.1051\n",
            "Epoch 8/30\n",
            "1435/1435 [==============================] - 6s 4ms/step - loss: 7.9683e-05 - accuracy: 0.1000 - val_loss: 7.3687e-05 - val_accuracy: 0.1051\n",
            "Epoch 9/30\n",
            "1435/1435 [==============================] - 6s 4ms/step - loss: 7.0843e-05 - accuracy: 0.1000 - val_loss: 6.5181e-05 - val_accuracy: 0.1051\n",
            "Epoch 10/30\n",
            "1435/1435 [==============================] - 6s 4ms/step - loss: 6.3768e-05 - accuracy: 0.1000 - val_loss: 5.8320e-05 - val_accuracy: 0.1051\n",
            "Epoch 11/30\n",
            "1435/1435 [==============================] - 6s 4ms/step - loss: 5.7972e-05 - accuracy: 0.1000 - val_loss: 5.2710e-05 - val_accuracy: 0.1051\n",
            "Epoch 12/30\n",
            "1435/1435 [==============================] - 6s 4ms/step - loss: 5.3133e-05 - accuracy: 0.1000 - val_loss: 4.8023e-05 - val_accuracy: 0.1051\n",
            "Epoch 13/30\n",
            "1435/1435 [==============================] - 6s 4ms/step - loss: 4.9037e-05 - accuracy: 0.1000 - val_loss: 4.4048e-05 - val_accuracy: 0.1051\n",
            "Epoch 14/30\n",
            "1435/1435 [==============================] - 6s 4ms/step - loss: 4.5511e-05 - accuracy: 0.1000 - val_loss: 4.0629e-05 - val_accuracy: 0.1051\n",
            "Epoch 15/30\n",
            "1435/1435 [==============================] - 6s 4ms/step - loss: 4.2444e-05 - accuracy: 0.1000 - val_loss: 3.7669e-05 - val_accuracy: 0.1051\n",
            "Epoch 16/30\n",
            "1435/1435 [==============================] - 6s 4ms/step - loss: 3.9758e-05 - accuracy: 0.1000 - val_loss: 3.5085e-05 - val_accuracy: 0.1051\n",
            "Epoch 17/30\n",
            "1435/1435 [==============================] - 7s 5ms/step - loss: 3.7389e-05 - accuracy: 0.1000 - val_loss: 3.2804e-05 - val_accuracy: 0.1051\n",
            "Epoch 18/30\n",
            "1435/1435 [==============================] - 6s 4ms/step - loss: 3.5273e-05 - accuracy: 0.1000 - val_loss: 3.0778e-05 - val_accuracy: 0.1051\n",
            "Epoch 19/30\n",
            "1435/1435 [==============================] - 6s 4ms/step - loss: 3.3378e-05 - accuracy: 0.1000 - val_loss: 2.8969e-05 - val_accuracy: 0.1051\n",
            "Epoch 20/30\n",
            "1435/1435 [==============================] - 6s 4ms/step - loss: 3.1672e-05 - accuracy: 0.1000 - val_loss: 2.7344e-05 - val_accuracy: 0.1051\n",
            "Epoch 21/30\n",
            "1435/1435 [==============================] - 6s 4ms/step - loss: 3.0126e-05 - accuracy: 0.1000 - val_loss: 2.5874e-05 - val_accuracy: 0.1051\n",
            "Epoch 22/30\n",
            "1435/1435 [==============================] - 6s 4ms/step - loss: 2.8722e-05 - accuracy: 0.1000 - val_loss: 2.4539e-05 - val_accuracy: 0.1051\n",
            "Epoch 23/30\n",
            "1435/1435 [==============================] - 6s 4ms/step - loss: 2.7436e-05 - accuracy: 0.1000 - val_loss: 2.3323e-05 - val_accuracy: 0.1051\n",
            "Epoch 24/30\n",
            "1435/1435 [==============================] - 6s 4ms/step - loss: 2.6259e-05 - accuracy: 0.1000 - val_loss: 2.2213e-05 - val_accuracy: 0.1051\n",
            "Epoch 25/30\n",
            "1435/1435 [==============================] - 6s 4ms/step - loss: 2.5176e-05 - accuracy: 0.1000 - val_loss: 2.1194e-05 - val_accuracy: 0.1051\n",
            "Epoch 26/30\n",
            "1435/1435 [==============================] - 6s 4ms/step - loss: 2.4174e-05 - accuracy: 0.1000 - val_loss: 2.0257e-05 - val_accuracy: 0.1051\n",
            "Epoch 27/30\n",
            "1435/1435 [==============================] - 6s 4ms/step - loss: 2.3249e-05 - accuracy: 0.1000 - val_loss: 1.9392e-05 - val_accuracy: 0.1051\n",
            "Epoch 28/30\n",
            "1435/1435 [==============================] - 6s 4ms/step - loss: 2.2390e-05 - accuracy: 0.1000 - val_loss: 1.8592e-05 - val_accuracy: 0.1051\n",
            "Epoch 29/30\n",
            "1435/1435 [==============================] - 6s 4ms/step - loss: 2.1590e-05 - accuracy: 0.1000 - val_loss: 1.7849e-05 - val_accuracy: 0.1051\n",
            "Epoch 30/30\n",
            "1435/1435 [==============================] - 6s 4ms/step - loss: 2.0843e-05 - accuracy: 0.1000 - val_loss: 1.7157e-05 - val_accuracy: 0.1051\n"
          ]
        },
        {
          "output_type": "execute_result",
          "data": {
            "text/plain": [
              "<keras.callbacks.History at 0x7f895fc64b50>"
            ]
          },
          "metadata": {},
          "execution_count": 49
        }
      ]
    },
    {
      "cell_type": "code",
      "source": [
        "model.predict(x_train[0:1])"
      ],
      "metadata": {
        "colab": {
          "base_uri": "https://localhost:8080/"
        },
        "id": "l4EN-AlEtN6s",
        "outputId": "b4542cfc-6a29-4107-b8a5-bdc4588cd51d"
      },
      "execution_count": 54,
      "outputs": [
        {
          "output_type": "stream",
          "name": "stdout",
          "text": [
            "1/1 [==============================] - 0s 17ms/step\n"
          ]
        },
        {
          "output_type": "execute_result",
          "data": {
            "text/plain": [
              "array([[1.0000000e+00, 6.4948022e-15, 2.5057202e-13, 2.8497580e-14,\n",
              "        1.0595882e-15, 1.9308031e-15, 2.8275554e-13, 2.0836712e-14,\n",
              "        5.7635883e-15, 1.3209402e-14]], dtype=float32)"
            ]
          },
          "metadata": {},
          "execution_count": 54
        }
      ]
    }
  ]
}